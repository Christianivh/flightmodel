{
 "cells": [
  {
   "cell_type": "code",
   "execution_count": 24,
   "metadata": {},
   "outputs": [],
   "source": [
    "def predictflightmodel(p1model, p2_arr_flights, p3_carrier_ct, p4_weather_ct, p5_nas_ct):\n",
    "    import pandas as pd\n",
    "    import numpy as np\n",
    "    from sklearn import datasets, linear_model\n",
    "    from sklearn.metrics import mean_squared_error, r2_score\n",
    "    from matplotlib import cm\n",
    "    import pickle\n",
    "\n",
    "\n",
    "    strmodel = \"modelos_vuelos/{model}.pkl\"\n",
    "    strmodel = strmodel.replace(\"{model}\",p1model)\n",
    "\n",
    "    model = pickle.load(open(strmodel, 'rb')) \n",
    "    lstvalue = {\"arr_flights\":[p2_arr_flights], \"carrier_ct\":[p3_carrier_ct], \"weather_ct\": [p4_weather_ct],\"nas_ct\": [p5_nas_ct]}\n",
    "    dfvalue = pd.DataFrame(lstvalue)\n",
    "    resultado = model.predict(dfvalue.values)\n",
    "    return resultado[0]\n"
   ]
  },
  {
   "cell_type": "code",
   "execution_count": 25,
   "metadata": {},
   "outputs": [
    {
     "data": {
      "text/plain": [
       "array([-3.48079033])"
      ]
     },
     "execution_count": 25,
     "metadata": {},
     "output_type": "execute_result"
    }
   ],
   "source": [
    "predictflightmodel(\"OOFSD\", 31,1,0,1)"
   ]
  },
  {
   "cell_type": "code",
   "execution_count": null,
   "metadata": {
    "collapsed": true
   },
   "outputs": [],
   "source": []
  }
 ],
 "metadata": {
  "kernelspec": {
   "display_name": "Python 3",
   "language": "python",
   "name": "python3"
  },
  "language_info": {
   "codemirror_mode": {
    "name": "ipython",
    "version": 3
   },
   "file_extension": ".py",
   "mimetype": "text/x-python",
   "name": "python",
   "nbconvert_exporter": "python",
   "pygments_lexer": "ipython3",
   "version": "3.6.3"
  }
 },
 "nbformat": 4,
 "nbformat_minor": 2
}
